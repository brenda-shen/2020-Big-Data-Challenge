{
 "cells": [
  {
   "cell_type": "code",
   "execution_count": 2,
   "metadata": {},
   "outputs": [
    {
     "name": "stdout",
     "output_type": "stream",
     "text": [
      "Collecting instaloader\n",
      "  Using cached instaloader-4.4.3.tar.gz (42 kB)\n",
      "Requirement already satisfied: requests>=2.4 in /opt/anaconda3/lib/python3.7/site-packages (from instaloader) (2.22.0)\n",
      "Requirement already satisfied: idna<2.9,>=2.5 in /opt/anaconda3/lib/python3.7/site-packages (from requests>=2.4->instaloader) (2.8)\n",
      "Requirement already satisfied: urllib3!=1.25.0,!=1.25.1,<1.26,>=1.21.1 in /opt/anaconda3/lib/python3.7/site-packages (from requests>=2.4->instaloader) (1.25.8)\n",
      "Requirement already satisfied: certifi>=2017.4.17 in /opt/anaconda3/lib/python3.7/site-packages (from requests>=2.4->instaloader) (2019.11.28)\n",
      "Requirement already satisfied: chardet<3.1.0,>=3.0.2 in /opt/anaconda3/lib/python3.7/site-packages (from requests>=2.4->instaloader) (3.0.4)\n",
      "Building wheels for collected packages: instaloader\n",
      "  Building wheel for instaloader (setup.py) ... \u001b[?25ldone\n",
      "\u001b[?25h  Created wheel for instaloader: filename=instaloader-4.4.3-py3-none-any.whl size=45161 sha256=747eeec1675c091de10450a9192d2b8c9874bb55aafa5d42c01c53601777a337\n",
      "  Stored in directory: /Users/arthurboschet/Library/Caches/pip/wheels/13/1a/9d/da300c5f91f622613a36315333903b0c7ea7ec5e29cf93c9f3\n",
      "Successfully built instaloader\n",
      "Installing collected packages: instaloader\n",
      "Successfully installed instaloader-4.4.3\n"
     ]
    }
   ],
   "source": [
    "#only run this the first time you use this script \n",
    "import sys\n",
    "!{sys.executable} -m pip install instaloader"
   ]
  },
  {
   "cell_type": "code",
   "execution_count": 28,
   "metadata": {},
   "outputs": [],
   "source": [
    "#import statements \n",
    "import instaloader\n",
    "from instaloader import Post\n",
    "from instaloader import Profile\n",
    "import json"
   ]
  },
  {
   "cell_type": "code",
   "execution_count": 5,
   "metadata": {},
   "outputs": [],
   "source": [
    "# Get instance\n",
    "L = instaloader.Instaloader()\n",
    "PROFILE = \"arthur_boschet\"\n",
    "password = \"I am not telling you\""
   ]
  },
  {
   "cell_type": "code",
   "execution_count": 7,
   "metadata": {},
   "outputs": [],
   "source": [
    "L.login(PROFILE, password)        # (login)"
   ]
  },
  {
   "cell_type": "code",
   "execution_count": 210,
   "metadata": {},
   "outputs": [],
   "source": [
    "#load the provided ids dataset\n",
    "f = open(\"/Users/arthurboschet/Desktop/COVID-19-InstaPostIDs/PostIDs/list_shortcode.json\")"
   ]
  },
  {
   "cell_type": "code",
   "execution_count": 211,
   "metadata": {},
   "outputs": [],
   "source": [
    "#convert to python elementary datastructures\n",
    "data = json.load(f) "
   ]
  },
  {
   "cell_type": "code",
   "execution_count": 201,
   "metadata": {},
   "outputs": [
    {
     "name": "stdout",
     "output_type": "stream",
     "text": [
      "Post # 0 is being processed\n",
      "Post # 2 is being processed\n",
      "Post # 4 is being processed\n",
      "Post # 6 is being processed\n"
     ]
    },
    {
     "name": "stderr",
     "output_type": "stream",
     "text": [
      "JSON Query to p/B7mU7oMhOfI/: 404 Not Found [retrying; skip with ^C]\n",
      "JSON Query to p/B7mU7oMhOfI/: 404 Not Found [retrying; skip with ^C]\n"
     ]
    },
    {
     "name": "stdout",
     "output_type": "stream",
     "text": [
      "Oops! The 6th ID was not a valid ID\n",
      "Post # 8 is being processed\n"
     ]
    }
   ],
   "source": [
    "#IMPORTANT create the dataset\n",
    "\n",
    "formateddata = {}\n",
    "for i in range(len(data)):\n",
    "    if (i%10 == 0):\n",
    "        print(\"Post # \"+ str(i) + \" is being processed\")\n",
    "    \n",
    "    try:\n",
    "        post = Post.from_shortcode(L.context, data[str(i)])\n",
    "    except:\n",
    "        print(\"Oops! The \"+ str(i) +\"th ID was not a valid ID\")\n",
    "        continue\n",
    "    \n",
    "    \n",
    "    formateddata[str(i)] = {\n",
    "        'shortcode': post.shortcode,\n",
    "        'owner_username': post.owner_username,\n",
    "        'owner_id': post.owner_id,\n",
    "        'date_utc': post.date_utc.strftime(\"%Y-%m-%d %H:%M:%S\"),\n",
    "        'caption' : post.caption,\n",
    "        'hashtags': post.caption_hashtags,\n",
    "        'num_likes': post.likes,\n",
    "        'URL': post.url,\n",
    "        'caption_mentions': post.caption_mentions,\n",
    "        'tagged_users': post.tagged_users,\n",
    "        'is_video' : post.is_video,\n",
    "        'video_url': post.video_url,\n",
    "        'video_view_count' : post.video_view_count,\n",
    "        'video_duration': post.video_duration,\n",
    "        'comments' : []\n",
    "    }\n",
    "    for comment in post.get_comments():\n",
    "        formateddata[str(i)]['comments'].append({\n",
    "            'comment': comment[2],\n",
    "            'commenter': comment[3].username\n",
    "        })\n",
    "    "
   ]
  },
  {
   "cell_type": "code",
   "execution_count": 205,
   "metadata": {},
   "outputs": [
    {
     "name": "stdout",
     "output_type": "stream",
     "text": [
      "{'0': {'shortcode': 'B7Q8T1hhxl3', 'owner_username': 'mila_polaroid', 'owner_id': 1499844469, 'date_utc': '2020-01-13 15:23:21', 'caption': 'With the new day comes new strenght and new thought💪\\nPrice worth it💯💯 .\\n\\nApa-apa urusan boleh click link kat bio atau whatsapp je nombor 0177030710,okayy!!!\\n.\\n\\n#mila_polaroid #photoalbum #gerobokphoto #polaroid #polaroidmurahmalaysia #polaroidmurah #polaroidkalisair #polaroidfamily #polaroidmember #polaroidviral #covid19 #coronavirus #superring', 'hashtags': ['mila_polaroid', 'photoalbum', 'gerobokphoto', 'polaroid', 'polaroidmurahmalaysia', 'polaroidmurah', 'polaroidkalisair', 'polaroidfamily', 'polaroidmember', 'polaroidviral', 'covid19', 'coronavirus', 'superring'], 'num_likes': 4, 'URL': 'https://scontent-cdt1-1.cdninstagram.com/v/t51.2885-15/e35/80623520_2442790659164117_8602648043617572718_n.jpg?_nc_ht=scontent-cdt1-1.cdninstagram.com&_nc_cat=105&_nc_ohc=89Z7IY__X_UAX8oFleT&oh=3cda6df5cfe5a705fce00946f66af9f9&oe=5EF21F95', 'caption_mentions': [], 'tagged_users': [], 'is_video': False, 'video_url': None, 'video_view_count': None, 'video_duration': None, 'comments': []}, '1': {'shortcode': 'B9F6FPHJuA4', 'owner_username': 'sneakergoodsmiami', 'owner_id': 224209431, 'date_utc': '2020-02-28 01:35:01', 'caption': 'Use discount code “305DAY” to get 15% off until midnight.... #sneakergoodsmiami #sneakeriphonecase #seanwotherspoon #offwhite #bred #mjmondays #kickviews #hypebeast #miami #305 #explore #viral #jumpman #airmaxalways #unc #jordan1 #305day #coronavirus #springbreak2020', 'hashtags': ['sneakergoodsmiami', 'sneakeriphonecase', 'seanwotherspoon', 'offwhite', 'bred', 'mjmondays', 'kickviews', 'hypebeast', 'miami', '305', 'explore', 'viral', 'jumpman', 'airmaxalways', 'unc', 'jordan1', '305day', 'coronavirus', 'springbreak2020'], 'num_likes': 73, 'URL': 'https://scontent-cdg2-1.cdninstagram.com/v/t51.2885-15/e35/88181626_260279061642671_5261063872609778930_n.jpg?_nc_ht=scontent-cdg2-1.cdninstagram.com&_nc_cat=111&_nc_ohc=TtE9N_R6NM4AX9EAiY2&oh=175750846d6c2f915a62de3bf08e5cde&oe=5EF3F10A', 'caption_mentions': [], 'tagged_users': [], 'is_video': False, 'video_url': None, 'video_view_count': None, 'video_duration': None, 'comments': [{'comment': '@sneakergoodsmiami  any of those cases for XR I went on the site and don’t see any', 'commenter': 'griffith31'}, {'comment': 'loveeeeeeeeeeee, A whole vibe', 'commenter': 'leclubboujee'}, {'comment': '🔥🔥🔥🔥🔥🔥🔥🔥', 'commenter': 'txsxnlxe23'}, {'comment': 'Its corny how the cases are for only iPhones 👎', 'commenter': 'awall1982'}, {'comment': '@d4n_aquino', 'commenter': 'santiago.edinei'}, {'comment': 'Check dm❤️', 'commenter': 'barbiegirlling'}]}, '2': {'shortcode': 'B7Q8EhBhMJi', 'owner_username': 'mila_polaroid', 'owner_id': 1499844469, 'date_utc': '2020-01-13 15:21:15', 'caption': 'A picture paints a thousand words✨✨\\nPrice worth it💯💯 .\\n\\nFor detail you can click link on my bio or whatsapp me via 0177030710 .\\n\\n#mila_polaroid #photoalbum #gerobokphoto #polaroid #polaroidmurahmalaysia #polaroidmurah #polaroidkalisair #polaroidfamily #polaroidmember #polaroidviral #covid19 #coronavirus #superring', 'hashtags': ['mila_polaroid', 'photoalbum', 'gerobokphoto', 'polaroid', 'polaroidmurahmalaysia', 'polaroidmurah', 'polaroidkalisair', 'polaroidfamily', 'polaroidmember', 'polaroidviral', 'covid19', 'coronavirus', 'superring'], 'num_likes': 5, 'URL': 'https://scontent-cdg2-1.cdninstagram.com/v/t51.2885-15/e35/82107717_868859433552220_7394255295730300523_n.jpg?_nc_ht=scontent-cdg2-1.cdninstagram.com&_nc_cat=104&_nc_ohc=NgCWqvUFNiMAX839v3o&oh=98b46f17cfb64e74065033c8bf48fdf7&oe=5EF1300C', 'caption_mentions': [], 'tagged_users': [], 'is_video': False, 'video_url': None, 'video_view_count': None, 'video_duration': None, 'comments': []}, '3': {'shortcode': 'B7L-OFYBn21', 'owner_username': 'mila_polaroid', 'owner_id': 1499844469, 'date_utc': '2020-01-11 17:03:50', 'caption': 'Jangan risau, barang akan sampai seperti yang dijanjikan. Lawa, jelas dan yang paling penting kalis air tau😘😘\\nPrice worth it💯💯\\n.  FEEDBACK!! .\\n\\nFor detail you can click link on my bio or whatsapp me via 0177030710 .\\n\\n#mila_polaroid #photoalbum #gerobokphoto #polaroid #polaroidmurahmalaysia #polaroidmurah #polaroidkalisair #polaroidfamily #polaroidmember #polaroidviral #covid19 #coronavirus #superring', 'hashtags': ['mila_polaroid', 'photoalbum', 'gerobokphoto', 'polaroid', 'polaroidmurahmalaysia', 'polaroidmurah', 'polaroidkalisair', 'polaroidfamily', 'polaroidmember', 'polaroidviral', 'covid19', 'coronavirus', 'superring'], 'num_likes': 5, 'URL': 'https://scontent-cdg2-1.cdninstagram.com/v/t51.2885-15/e35/80469949_956209188113839_6609800337760697192_n.jpg?_nc_ht=scontent-cdg2-1.cdninstagram.com&_nc_cat=107&_nc_ohc=jhl66vDHLekAX_3wbaC&oh=828975ac14e2fcf70cd0206bb2ab0e63&oe=5EF20067', 'caption_mentions': [], 'tagged_users': [], 'is_video': False, 'video_url': None, 'video_view_count': None, 'video_duration': None, 'comments': []}, '4': {'shortcode': 'B7L8JlkBIwl', 'owner_username': 'mila_polaroid', 'owner_id': 1499844469, 'date_utc': '2020-01-11 16:45:44', 'caption': 'FEEDBACK!! .\\n\\nFor detail you can click link on my bio or whatsapp me via 0177030710 .\\n\\n#mila_polaroid #photoalbum #gerobokphoto #polaroid #polaroidmurahmalaysia #polaroidmurah #polaroidkalisair #polaroidfamily #polaroidmember #polaroidviral #covid19 #coronavirus #superring', 'hashtags': ['mila_polaroid', 'photoalbum', 'gerobokphoto', 'polaroid', 'polaroidmurahmalaysia', 'polaroidmurah', 'polaroidkalisair', 'polaroidfamily', 'polaroidmember', 'polaroidviral', 'covid19', 'coronavirus', 'superring'], 'num_likes': 5, 'URL': 'https://scontent-cdg2-1.cdninstagram.com/v/t51.2885-15/e35/80447781_242519766731697_3763416083418848294_n.jpg?_nc_ht=scontent-cdg2-1.cdninstagram.com&_nc_cat=109&_nc_ohc=QBlxCGJ5xnoAX_cbS_M&oh=c0eaa3ee37c8bcd2f40dc5c643f43b41&oe=5EF17A72', 'caption_mentions': [], 'tagged_users': [], 'is_video': False, 'video_url': None, 'video_view_count': None, 'video_duration': None, 'comments': []}, '5': {'shortcode': 'B7L8IFqhfrn', 'owner_username': 'mila_polaroid', 'owner_id': 1499844469, 'date_utc': '2020-01-11 16:45:32', 'caption': 'Jangan risau,  gambar dari @mila_polaroid murah dan jelas tau!! Jom order sekarang!?\\nPrice worth it💯💯 .\\n\\nFEEDBACK!! .\\n\\nFor detail you can click link on my bio or whatsapp me via 0177030710 .\\n\\n#mila_polaroid #photoalbum #gerobokphoto #polaroid #polaroidmurahmalaysia #polaroidmurah #polaroidkalisair #polaroidfamily #polaroidmember #polaroidviral #covid19 #coronavirus #superring', 'hashtags': ['mila_polaroid', 'photoalbum', 'gerobokphoto', 'polaroid', 'polaroidmurahmalaysia', 'polaroidmurah', 'polaroidkalisair', 'polaroidfamily', 'polaroidmember', 'polaroidviral', 'covid19', 'coronavirus', 'superring'], 'num_likes': 3, 'URL': 'https://scontent-cdt1-1.cdninstagram.com/v/t51.2885-15/e35/81319896_165818531180706_5598057866355331207_n.jpg?_nc_ht=scontent-cdt1-1.cdninstagram.com&_nc_cat=106&_nc_ohc=3LQIikaqUBMAX8s8boa&oh=22a4051789a90047b1e08b8659d62b3a&oe=5EF36CCF', 'caption_mentions': ['mila_polaroid'], 'tagged_users': [], 'is_video': False, 'video_url': None, 'video_view_count': None, 'video_duration': None, 'comments': []}, '7': {'shortcode': 'B7L78DThQ8d', 'owner_username': 'mila_polaroid', 'owner_id': 1499844469, 'date_utc': '2020-01-11 16:43:54', 'caption': 'FEEDBACK!! .\\n\\nFor detail you can click link on my bio or whatsapp me via 0177030710 .\\n\\n#mila_polaroid #photoalbum #gerobokphoto #polaroid #polaroidmurahmalaysia #polaroidmurah #polaroidkalisair #polaroidfamily #polaroidmember #polaroidviral #covid19 #coronavirus #superring', 'hashtags': ['mila_polaroid', 'photoalbum', 'gerobokphoto', 'polaroid', 'polaroidmurahmalaysia', 'polaroidmurah', 'polaroidkalisair', 'polaroidfamily', 'polaroidmember', 'polaroidviral', 'covid19', 'coronavirus', 'superring'], 'num_likes': 4, 'URL': 'https://scontent-cdg2-1.cdninstagram.com/v/t51.2885-15/e35/82491714_197476168049152_4926476734026927063_n.jpg?_nc_ht=scontent-cdg2-1.cdninstagram.com&_nc_cat=104&_nc_ohc=1vXdyy5ZABkAX-tG8cG&oh=2453b63870fbab15ac8d2d64e8c71df2&oe=5EF3BE6F', 'caption_mentions': [], 'tagged_users': [], 'is_video': False, 'video_url': None, 'video_view_count': None, 'video_duration': None, 'comments': []}, '8': {'shortcode': 'B9CDSyNhDit', 'owner_username': 'noticiafoco', 'owner_id': 13525543279, 'date_utc': '2020-02-26 13:38:33', 'caption': 'Cobrir a boca e nariz ao tossir ou espirrar, lavar as mãos e evitar contatos com pessoas doentes são algumas das orientações do Ministério da Saúde para se prevenir contra o novo coronavírus. \\nConfira matéria completa em nosso portal 🔍\\n#coronavirus #noticiaemfoco #noticiapiaui #saude', 'hashtags': ['coronavirus', 'noticiaemfoco', 'noticiapiaui', 'saude'], 'num_likes': 8, 'URL': 'https://scontent-cdg2-1.cdninstagram.com/v/t51.2885-15/e35/s1080x1080/84533393_635226293923135_355593323297609731_n.jpg?_nc_ht=scontent-cdg2-1.cdninstagram.com&_nc_cat=107&_nc_ohc=VpGTt_Zw1jwAX84_0RK&oh=d4a158d2c40104e6558707ebe0cbeb03&oe=5EF4621B', 'caption_mentions': [], 'tagged_users': [], 'is_video': False, 'video_url': None, 'video_view_count': None, 'video_duration': None, 'comments': []}, '9': {'shortcode': 'B7L744EhLz8', 'owner_username': 'mila_polaroid', 'owner_id': 1499844469, 'date_utc': '2020-01-11 16:43:28', 'caption': 'Feedback dari customer baik punya🙌\\nPrice worth it💯💯 .Apa-apa urusan boleh click link kat bio  atau whatsapp je no 0177030710,okayy❗❗ .\\n\\n#mila_polaroid #photoalbum #gerobokphoto #polaroid #polaroidmurahmalaysia #polaroidmurah #polaroidkalisair #polaroidfamily #polaroidmember #polaroidviral #coronavirus #covid19', 'hashtags': ['mila_polaroid', 'photoalbum', 'gerobokphoto', 'polaroid', 'polaroidmurahmalaysia', 'polaroidmurah', 'polaroidkalisair', 'polaroidfamily', 'polaroidmember', 'polaroidviral', 'coronavirus', 'covid19'], 'num_likes': 6, 'URL': 'https://scontent-cdg2-1.cdninstagram.com/v/t51.2885-15/e35/80469543_251393102508098_8985527561605064389_n.jpg?_nc_ht=scontent-cdg2-1.cdninstagram.com&_nc_cat=102&_nc_ohc=q-0JsvKsZuEAX_lHR8A&oh=557e37b8f6b8cada5a58794251edebf3&oe=5EF3ED3A', 'caption_mentions': [], 'tagged_users': [], 'is_video': False, 'video_url': None, 'video_view_count': None, 'video_duration': None, 'comments': []}}\n"
     ]
    }
   ],
   "source": [
    "print(formateddata)"
   ]
  },
  {
   "cell_type": "code",
   "execution_count": 206,
   "metadata": {},
   "outputs": [],
   "source": [
    "#create a file with a jason format containing all of the information of each file\n",
    "with open('/Users/arthurboschet/Desktop/data.txt', 'w') as outfile:\n",
    "    json.dump(formateddata, outfile)"
   ]
  },
  {
   "cell_type": "code",
   "execution_count": 207,
   "metadata": {},
   "outputs": [],
   "source": [
    "#load the json file to check that it is correctly formatted\n",
    "file = open(\"/Users/arthurboschet/Desktop/data.txt\")\n",
    "data2 = json.load(file) "
   ]
  },
  {
   "cell_type": "code",
   "execution_count": 208,
   "metadata": {},
   "outputs": [
    {
     "name": "stdout",
     "output_type": "stream",
     "text": [
      "{'0': {'shortcode': 'B7Q8T1hhxl3', 'owner_username': 'mila_polaroid', 'owner_id': 1499844469, 'date_utc': '2020-01-13 15:23:21', 'caption': 'With the new day comes new strenght and new thought💪\\nPrice worth it💯💯 .\\n\\nApa-apa urusan boleh click link kat bio atau whatsapp je nombor 0177030710,okayy!!!\\n.\\n\\n#mila_polaroid #photoalbum #gerobokphoto #polaroid #polaroidmurahmalaysia #polaroidmurah #polaroidkalisair #polaroidfamily #polaroidmember #polaroidviral #covid19 #coronavirus #superring', 'hashtags': ['mila_polaroid', 'photoalbum', 'gerobokphoto', 'polaroid', 'polaroidmurahmalaysia', 'polaroidmurah', 'polaroidkalisair', 'polaroidfamily', 'polaroidmember', 'polaroidviral', 'covid19', 'coronavirus', 'superring'], 'num_likes': 4, 'URL': 'https://scontent-cdt1-1.cdninstagram.com/v/t51.2885-15/e35/80623520_2442790659164117_8602648043617572718_n.jpg?_nc_ht=scontent-cdt1-1.cdninstagram.com&_nc_cat=105&_nc_ohc=89Z7IY__X_UAX8oFleT&oh=3cda6df5cfe5a705fce00946f66af9f9&oe=5EF21F95', 'caption_mentions': [], 'tagged_users': [], 'is_video': False, 'video_url': None, 'video_view_count': None, 'video_duration': None, 'comments': []}, '1': {'shortcode': 'B9F6FPHJuA4', 'owner_username': 'sneakergoodsmiami', 'owner_id': 224209431, 'date_utc': '2020-02-28 01:35:01', 'caption': 'Use discount code “305DAY” to get 15% off until midnight.... #sneakergoodsmiami #sneakeriphonecase #seanwotherspoon #offwhite #bred #mjmondays #kickviews #hypebeast #miami #305 #explore #viral #jumpman #airmaxalways #unc #jordan1 #305day #coronavirus #springbreak2020', 'hashtags': ['sneakergoodsmiami', 'sneakeriphonecase', 'seanwotherspoon', 'offwhite', 'bred', 'mjmondays', 'kickviews', 'hypebeast', 'miami', '305', 'explore', 'viral', 'jumpman', 'airmaxalways', 'unc', 'jordan1', '305day', 'coronavirus', 'springbreak2020'], 'num_likes': 73, 'URL': 'https://scontent-cdg2-1.cdninstagram.com/v/t51.2885-15/e35/88181626_260279061642671_5261063872609778930_n.jpg?_nc_ht=scontent-cdg2-1.cdninstagram.com&_nc_cat=111&_nc_ohc=TtE9N_R6NM4AX9EAiY2&oh=175750846d6c2f915a62de3bf08e5cde&oe=5EF3F10A', 'caption_mentions': [], 'tagged_users': [], 'is_video': False, 'video_url': None, 'video_view_count': None, 'video_duration': None, 'comments': [{'comment': '@sneakergoodsmiami  any of those cases for XR I went on the site and don’t see any', 'commenter': 'griffith31'}, {'comment': 'loveeeeeeeeeeee, A whole vibe', 'commenter': 'leclubboujee'}, {'comment': '🔥🔥🔥🔥🔥🔥🔥🔥', 'commenter': 'txsxnlxe23'}, {'comment': 'Its corny how the cases are for only iPhones 👎', 'commenter': 'awall1982'}, {'comment': '@d4n_aquino', 'commenter': 'santiago.edinei'}, {'comment': 'Check dm❤️', 'commenter': 'barbiegirlling'}]}, '2': {'shortcode': 'B7Q8EhBhMJi', 'owner_username': 'mila_polaroid', 'owner_id': 1499844469, 'date_utc': '2020-01-13 15:21:15', 'caption': 'A picture paints a thousand words✨✨\\nPrice worth it💯💯 .\\n\\nFor detail you can click link on my bio or whatsapp me via 0177030710 .\\n\\n#mila_polaroid #photoalbum #gerobokphoto #polaroid #polaroidmurahmalaysia #polaroidmurah #polaroidkalisair #polaroidfamily #polaroidmember #polaroidviral #covid19 #coronavirus #superring', 'hashtags': ['mila_polaroid', 'photoalbum', 'gerobokphoto', 'polaroid', 'polaroidmurahmalaysia', 'polaroidmurah', 'polaroidkalisair', 'polaroidfamily', 'polaroidmember', 'polaroidviral', 'covid19', 'coronavirus', 'superring'], 'num_likes': 5, 'URL': 'https://scontent-cdg2-1.cdninstagram.com/v/t51.2885-15/e35/82107717_868859433552220_7394255295730300523_n.jpg?_nc_ht=scontent-cdg2-1.cdninstagram.com&_nc_cat=104&_nc_ohc=NgCWqvUFNiMAX839v3o&oh=98b46f17cfb64e74065033c8bf48fdf7&oe=5EF1300C', 'caption_mentions': [], 'tagged_users': [], 'is_video': False, 'video_url': None, 'video_view_count': None, 'video_duration': None, 'comments': []}, '3': {'shortcode': 'B7L-OFYBn21', 'owner_username': 'mila_polaroid', 'owner_id': 1499844469, 'date_utc': '2020-01-11 17:03:50', 'caption': 'Jangan risau, barang akan sampai seperti yang dijanjikan. Lawa, jelas dan yang paling penting kalis air tau😘😘\\nPrice worth it💯💯\\n.  FEEDBACK!! .\\n\\nFor detail you can click link on my bio or whatsapp me via 0177030710 .\\n\\n#mila_polaroid #photoalbum #gerobokphoto #polaroid #polaroidmurahmalaysia #polaroidmurah #polaroidkalisair #polaroidfamily #polaroidmember #polaroidviral #covid19 #coronavirus #superring', 'hashtags': ['mila_polaroid', 'photoalbum', 'gerobokphoto', 'polaroid', 'polaroidmurahmalaysia', 'polaroidmurah', 'polaroidkalisair', 'polaroidfamily', 'polaroidmember', 'polaroidviral', 'covid19', 'coronavirus', 'superring'], 'num_likes': 5, 'URL': 'https://scontent-cdg2-1.cdninstagram.com/v/t51.2885-15/e35/80469949_956209188113839_6609800337760697192_n.jpg?_nc_ht=scontent-cdg2-1.cdninstagram.com&_nc_cat=107&_nc_ohc=jhl66vDHLekAX_3wbaC&oh=828975ac14e2fcf70cd0206bb2ab0e63&oe=5EF20067', 'caption_mentions': [], 'tagged_users': [], 'is_video': False, 'video_url': None, 'video_view_count': None, 'video_duration': None, 'comments': []}, '4': {'shortcode': 'B7L8JlkBIwl', 'owner_username': 'mila_polaroid', 'owner_id': 1499844469, 'date_utc': '2020-01-11 16:45:44', 'caption': 'FEEDBACK!! .\\n\\nFor detail you can click link on my bio or whatsapp me via 0177030710 .\\n\\n#mila_polaroid #photoalbum #gerobokphoto #polaroid #polaroidmurahmalaysia #polaroidmurah #polaroidkalisair #polaroidfamily #polaroidmember #polaroidviral #covid19 #coronavirus #superring', 'hashtags': ['mila_polaroid', 'photoalbum', 'gerobokphoto', 'polaroid', 'polaroidmurahmalaysia', 'polaroidmurah', 'polaroidkalisair', 'polaroidfamily', 'polaroidmember', 'polaroidviral', 'covid19', 'coronavirus', 'superring'], 'num_likes': 5, 'URL': 'https://scontent-cdg2-1.cdninstagram.com/v/t51.2885-15/e35/80447781_242519766731697_3763416083418848294_n.jpg?_nc_ht=scontent-cdg2-1.cdninstagram.com&_nc_cat=109&_nc_ohc=QBlxCGJ5xnoAX_cbS_M&oh=c0eaa3ee37c8bcd2f40dc5c643f43b41&oe=5EF17A72', 'caption_mentions': [], 'tagged_users': [], 'is_video': False, 'video_url': None, 'video_view_count': None, 'video_duration': None, 'comments': []}, '5': {'shortcode': 'B7L8IFqhfrn', 'owner_username': 'mila_polaroid', 'owner_id': 1499844469, 'date_utc': '2020-01-11 16:45:32', 'caption': 'Jangan risau,  gambar dari @mila_polaroid murah dan jelas tau!! Jom order sekarang!?\\nPrice worth it💯💯 .\\n\\nFEEDBACK!! .\\n\\nFor detail you can click link on my bio or whatsapp me via 0177030710 .\\n\\n#mila_polaroid #photoalbum #gerobokphoto #polaroid #polaroidmurahmalaysia #polaroidmurah #polaroidkalisair #polaroidfamily #polaroidmember #polaroidviral #covid19 #coronavirus #superring', 'hashtags': ['mila_polaroid', 'photoalbum', 'gerobokphoto', 'polaroid', 'polaroidmurahmalaysia', 'polaroidmurah', 'polaroidkalisair', 'polaroidfamily', 'polaroidmember', 'polaroidviral', 'covid19', 'coronavirus', 'superring'], 'num_likes': 3, 'URL': 'https://scontent-cdt1-1.cdninstagram.com/v/t51.2885-15/e35/81319896_165818531180706_5598057866355331207_n.jpg?_nc_ht=scontent-cdt1-1.cdninstagram.com&_nc_cat=106&_nc_ohc=3LQIikaqUBMAX8s8boa&oh=22a4051789a90047b1e08b8659d62b3a&oe=5EF36CCF', 'caption_mentions': ['mila_polaroid'], 'tagged_users': [], 'is_video': False, 'video_url': None, 'video_view_count': None, 'video_duration': None, 'comments': []}, '7': {'shortcode': 'B7L78DThQ8d', 'owner_username': 'mila_polaroid', 'owner_id': 1499844469, 'date_utc': '2020-01-11 16:43:54', 'caption': 'FEEDBACK!! .\\n\\nFor detail you can click link on my bio or whatsapp me via 0177030710 .\\n\\n#mila_polaroid #photoalbum #gerobokphoto #polaroid #polaroidmurahmalaysia #polaroidmurah #polaroidkalisair #polaroidfamily #polaroidmember #polaroidviral #covid19 #coronavirus #superring', 'hashtags': ['mila_polaroid', 'photoalbum', 'gerobokphoto', 'polaroid', 'polaroidmurahmalaysia', 'polaroidmurah', 'polaroidkalisair', 'polaroidfamily', 'polaroidmember', 'polaroidviral', 'covid19', 'coronavirus', 'superring'], 'num_likes': 4, 'URL': 'https://scontent-cdg2-1.cdninstagram.com/v/t51.2885-15/e35/82491714_197476168049152_4926476734026927063_n.jpg?_nc_ht=scontent-cdg2-1.cdninstagram.com&_nc_cat=104&_nc_ohc=1vXdyy5ZABkAX-tG8cG&oh=2453b63870fbab15ac8d2d64e8c71df2&oe=5EF3BE6F', 'caption_mentions': [], 'tagged_users': [], 'is_video': False, 'video_url': None, 'video_view_count': None, 'video_duration': None, 'comments': []}, '8': {'shortcode': 'B9CDSyNhDit', 'owner_username': 'noticiafoco', 'owner_id': 13525543279, 'date_utc': '2020-02-26 13:38:33', 'caption': 'Cobrir a boca e nariz ao tossir ou espirrar, lavar as mãos e evitar contatos com pessoas doentes são algumas das orientações do Ministério da Saúde para se prevenir contra o novo coronavírus. \\nConfira matéria completa em nosso portal 🔍\\n#coronavirus #noticiaemfoco #noticiapiaui #saude', 'hashtags': ['coronavirus', 'noticiaemfoco', 'noticiapiaui', 'saude'], 'num_likes': 8, 'URL': 'https://scontent-cdg2-1.cdninstagram.com/v/t51.2885-15/e35/s1080x1080/84533393_635226293923135_355593323297609731_n.jpg?_nc_ht=scontent-cdg2-1.cdninstagram.com&_nc_cat=107&_nc_ohc=VpGTt_Zw1jwAX84_0RK&oh=d4a158d2c40104e6558707ebe0cbeb03&oe=5EF4621B', 'caption_mentions': [], 'tagged_users': [], 'is_video': False, 'video_url': None, 'video_view_count': None, 'video_duration': None, 'comments': []}, '9': {'shortcode': 'B7L744EhLz8', 'owner_username': 'mila_polaroid', 'owner_id': 1499844469, 'date_utc': '2020-01-11 16:43:28', 'caption': 'Feedback dari customer baik punya🙌\\nPrice worth it💯💯 .Apa-apa urusan boleh click link kat bio  atau whatsapp je no 0177030710,okayy❗❗ .\\n\\n#mila_polaroid #photoalbum #gerobokphoto #polaroid #polaroidmurahmalaysia #polaroidmurah #polaroidkalisair #polaroidfamily #polaroidmember #polaroidviral #coronavirus #covid19', 'hashtags': ['mila_polaroid', 'photoalbum', 'gerobokphoto', 'polaroid', 'polaroidmurahmalaysia', 'polaroidmurah', 'polaroidkalisair', 'polaroidfamily', 'polaroidmember', 'polaroidviral', 'coronavirus', 'covid19'], 'num_likes': 6, 'URL': 'https://scontent-cdg2-1.cdninstagram.com/v/t51.2885-15/e35/80469543_251393102508098_8985527561605064389_n.jpg?_nc_ht=scontent-cdg2-1.cdninstagram.com&_nc_cat=102&_nc_ohc=q-0JsvKsZuEAX_lHR8A&oh=557e37b8f6b8cada5a58794251edebf3&oe=5EF3ED3A', 'caption_mentions': [], 'tagged_users': [], 'is_video': False, 'video_url': None, 'video_view_count': None, 'video_duration': None, 'comments': []}}\n"
     ]
    }
   ],
   "source": [
    "#making sure that data2 is identical to formateddata\n",
    "print(data2)"
   ]
  },
  {
   "cell_type": "code",
   "execution_count": null,
   "metadata": {},
   "outputs": [],
   "source": []
  },
  {
   "cell_type": "code",
   "execution_count": null,
   "metadata": {},
   "outputs": [],
   "source": [
    "#fun script to check which of your instagram followers ghost you\n",
    "PROFILE = \" \"\n",
    "\n",
    "profile = instaloader.Profile.from_username(L.context, PROFILE)\n",
    "\n",
    "likes = set()\n",
    "print('Fetching likes of all posts of profile {}.'.format(profile.username))\n",
    "for post in profile.get_posts():\n",
    "    print(post)\n",
    "    likes = likes | set(post.get_likes())\n",
    "\n",
    "print('Fetching followers of profile {}.'.format(profile.username))\n",
    "followers = set(profile.get_followers())\n",
    "\n",
    "ghosts = followers - likes\n",
    "\n",
    "print('Storing ghosts into file.')\n",
    "with open('/Users/arthurboschet/Desktop/inactive-users.txt', 'w') as f:\n",
    "    for ghost in ghosts:\n",
    "        print(ghost.username, file=f)"
   ]
  }
 ],
 "metadata": {
  "kernelspec": {
   "display_name": "Python 3",
   "language": "python",
   "name": "python3"
  },
  "language_info": {
   "codemirror_mode": {
    "name": "ipython",
    "version": 3
   },
   "file_extension": ".py",
   "mimetype": "text/x-python",
   "name": "python",
   "nbconvert_exporter": "python",
   "pygments_lexer": "ipython3",
   "version": "3.7.6"
  }
 },
 "nbformat": 4,
 "nbformat_minor": 4
}
