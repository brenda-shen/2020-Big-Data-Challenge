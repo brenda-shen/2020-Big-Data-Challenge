{
 "cells": [
  {
   "cell_type": "code",
   "execution_count": 2,
   "metadata": {},
   "outputs": [
    {
     "name": "stdout",
     "output_type": "stream",
     "text": [
      "Collecting instaloader\n",
      "  Using cached instaloader-4.4.3.tar.gz (42 kB)\n",
      "Requirement already satisfied: requests>=2.4 in /opt/anaconda3/lib/python3.7/site-packages (from instaloader) (2.22.0)\n",
      "Requirement already satisfied: idna<2.9,>=2.5 in /opt/anaconda3/lib/python3.7/site-packages (from requests>=2.4->instaloader) (2.8)\n",
      "Requirement already satisfied: urllib3!=1.25.0,!=1.25.1,<1.26,>=1.21.1 in /opt/anaconda3/lib/python3.7/site-packages (from requests>=2.4->instaloader) (1.25.8)\n",
      "Requirement already satisfied: certifi>=2017.4.17 in /opt/anaconda3/lib/python3.7/site-packages (from requests>=2.4->instaloader) (2019.11.28)\n",
      "Requirement already satisfied: chardet<3.1.0,>=3.0.2 in /opt/anaconda3/lib/python3.7/site-packages (from requests>=2.4->instaloader) (3.0.4)\n",
      "Building wheels for collected packages: instaloader\n",
      "  Building wheel for instaloader (setup.py) ... \u001b[?25ldone\n",
      "\u001b[?25h  Created wheel for instaloader: filename=instaloader-4.4.3-py3-none-any.whl size=45161 sha256=747eeec1675c091de10450a9192d2b8c9874bb55aafa5d42c01c53601777a337\n",
      "  Stored in directory: /Users/arthurboschet/Library/Caches/pip/wheels/13/1a/9d/da300c5f91f622613a36315333903b0c7ea7ec5e29cf93c9f3\n",
      "Successfully built instaloader\n",
      "Installing collected packages: instaloader\n",
      "Successfully installed instaloader-4.4.3\n"
     ]
    }
   ],
   "source": [
    "#only run this the first time you use this script \n",
    "import sys\n",
    "!{sys.executable} -m pip install instaloader"
   ]
  },
  {
   "cell_type": "code",
   "execution_count": 28,
   "metadata": {},
   "outputs": [],
   "source": [
    "#import statements \n",
    "import instaloader\n",
    "from instaloader import Post\n",
    "from instaloader import Profile\n",
    "import json"
   ]
  },
  {
   "cell_type": "code",
   "execution_count": 5,
   "metadata": {},
   "outputs": [],
   "source": [
    "# Get instance\n",
    "L = instaloader.Instaloader()\n",
    "PROFILE = \"\"\n",
    "password = \"\""
   ]
  },
  {
   "cell_type": "code",
   "execution_count": 7,
   "metadata": {},
   "outputs": [],
   "source": [
    "L.login(PROFILE, password)        # (login)"
   ]
  },
  {
   "cell_type": "code",
   "execution_count": 210,
   "metadata": {},
   "outputs": [],
   "source": [
    "#load the provided ids dataset\n",
    "f = open(\"~/2020-Big-Data-Challenge/list_shortcode.json\")"
   ]
  },
  {
   "cell_type": "code",
   "execution_count": 211,
   "metadata": {},
   "outputs": [],
   "source": [
    "#convert to python elementary datastructures\n",
    "data = json.load(f) "
   ]
  },
  {
   "cell_type": "code",
   "execution_count": 201,
   "metadata": {},
   "outputs": [
    {
     "name": "stdout",
     "output_type": "stream",
     "text": [
      "Post # 0 is being processed\n",
      "Post # 2 is being processed\n",
      "Post # 4 is being processed\n",
      "Post # 6 is being processed\n"
     ]
    },
    {
     "name": "stderr",
     "output_type": "stream",
     "text": [
      "JSON Query to p/B7mU7oMhOfI/: 404 Not Found [retrying; skip with ^C]\n",
      "JSON Query to p/B7mU7oMhOfI/: 404 Not Found [retrying; skip with ^C]\n"
     ]
    },
    {
     "name": "stdout",
     "output_type": "stream",
     "text": [
      "Oops! The 6th ID was not a valid ID\n",
      "Post # 8 is being processed\n"
     ]
    }
   ],
   "source": [
    "#IMPORTANT hydrate the posts dataset\n",
    "\n",
    "formateddata = {}\n",
    "for i in range(len(data)):\n",
    "    if (i%10 == 0):\n",
    "        print(\"Post # \"+ str(i) + \" is being processed\")\n",
    "    \n",
    "    try:\n",
    "        post = Post.from_shortcode(L.context, data[str(i)])\n",
    "    except:\n",
    "        print(\"Oops! The \"+ str(i) +\"th ID was not a valid ID\")\n",
    "        continue\n",
    "    \n",
    "    \n",
    "    formateddata[str(i)] = {\n",
    "        'shortcode': post.shortcode,\n",
    "        'owner_username': post.owner_username,\n",
    "        'owner_id': post.owner_id,\n",
    "        'date_utc': post.date_utc.strftime(\"%Y-%m-%d %H:%M:%S\"),\n",
    "        'caption' : post.caption,\n",
    "        'hashtags': post.caption_hashtags,\n",
    "        'num_likes': post.likes,\n",
    "        'URL': post.url,\n",
    "        'caption_mentions': post.caption_mentions,\n",
    "        'tagged_users': post.tagged_users,\n",
    "        'is_video' : post.is_video,\n",
    "        'video_url': post.video_url,\n",
    "        'video_view_count' : post.video_view_count,\n",
    "        'video_duration': post.video_duration,\n",
    "        'comments' : []\n",
    "    }\n",
    "    for comment in post.get_comments():\n",
    "        formateddata[str(i)]['comments'].append({\n",
    "            'comment': comment[2],\n",
    "            'commenter': comment[3].username\n",
    "        })\n",
    "    "
   ]
  },
  {
   "cell_type": "code",
   "execution_count": 206,
   "metadata": {},
   "outputs": [],
   "source": [
    "#create a file with a .json format containing all of the information of each post\n",
    "with open('Appendix/hydrated-datasets/post_data.json', 'w') as outfile:\n",
    "    json.dump(formateddata, outfile)"
   ]
  },
  {
   "cell_type": "code",
   "execution_count": null,
   "metadata": {},
   "outputs": [],
   "source": [
    "#IMPORTANT hydrate the profiles dataset\n",
    "\n",
    "formateddata2 = {}\n",
    "for i in range(len(data)):\n",
    "    if (i%10 == 0):\n",
    "        print(\"Post # \"+ str(i) + \" is being processed\")\n",
    "    \n",
    "    try:\n",
    "        post = Post.from_shortcode(L.context, data[str(i)])\n",
    "    except:\n",
    "        print(\"Oops! The \"+ str(i) +\"th ID was not a valid ID\")\n",
    "        continue    \n",
    "    \n",
    "    prof = post.owner_profile\n",
    "    username = prof.username\n",
    "    if (formateddata2.get(username) != None):\n",
    "        continue\n",
    "    \n",
    "    formateddata2[username] = {\n",
    "        'shortcode': post.shortcode,\n",
    "        'owner': {\n",
    "            'username': username,\n",
    "            'is_private': prof.is_private,\n",
    "            'followed_by_viewer': prof.followed_by_viewer,\n",
    "            'mediacount': prof.mediacount,\n",
    "            'igtvcount': prof.igtvcount,\n",
    "            'followers': prof.followers,\n",
    "            'followees': prof.followees,\n",
    "            'external_url': prof.external_url,\n",
    "            'is_business_account': prof.is_business_account,\n",
    "            'business_category_name': prof.business_category_name,\n",
    "            'full_name': prof.full_name,\n",
    "            'biography': prof.biography,\n",
    "            \n",
    "        },\n",
    "        'is_sponsored': post.is_sponsored,\n",
    "        'user_sponsor_list': {}\n",
    "    }\n",
    "    \n",
    "    prof = post.owner_profile\n",
    "    \n",
    "    if(post.is_sponsored == True):\n",
    "            \n",
    "        for sponsor in post.sponsor_users:      \n",
    "            formateddata2[username]['user_sponsor_list']['username'] = sponsor.username\n",
    "            formateddata2[username]['user_sponsor_list']['is_private'] = sponsor.is_private\n",
    "            formateddata2[username]['user_sponsor_list']['mediacount'] = sponsor.mediacount\n",
    "            formateddata2[username]['user_sponsor_list']['igtvcount'] = sponsor.igtvcount\n",
    "        "
   ]
  },
  {
   "cell_type": "code",
   "execution_count": null,
   "metadata": {},
   "outputs": [],
   "source": [
    "with open('Appendix/hydrated-datasets/profile_data.json', 'w') as outfile:\n",
    "    json.dump(formateddata2, outfile)"
   ]
  }
 ],
 "metadata": {
  "kernelspec": {
   "display_name": "Python 3",
   "language": "python",
   "name": "python3"
  },
  "language_info": {
   "codemirror_mode": {
    "name": "ipython",
    "version": 3
   },
   "file_extension": ".py",
   "mimetype": "text/x-python",
   "name": "python",
   "nbconvert_exporter": "python",
   "pygments_lexer": "ipython3",
   "version": "3.7.6"
  }
 },
 "nbformat": 4,
 "nbformat_minor": 4
}
